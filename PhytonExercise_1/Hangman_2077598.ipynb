{
  "nbformat": 4,
  "nbformat_minor": 0,
  "metadata": {
    "colab": {
      "provenance": [],
      "toc_visible": true,
      "authorship_tag": "ABX9TyMa0IDmcN8ST7OOqWn30w8c",
      "include_colab_link": true
    },
    "kernelspec": {
      "name": "python3",
      "display_name": "Python 3"
    },
    "language_info": {
      "name": "python"
    }
  },
  "cells": [
    {
      "cell_type": "markdown",
      "metadata": {
        "id": "view-in-github",
        "colab_type": "text"
      },
      "source": [
        "<a href=\"https://colab.research.google.com/github/Ffelisa20/Artificial-Intelligence-/blob/main/Hangman_2077598.ipynb\" target=\"_parent\"><img src=\"https://colab.research.google.com/assets/colab-badge.svg\" alt=\"Open In Colab\"/></a>"
      ]
    },
    {
      "cell_type": "code",
      "execution_count": null,
      "metadata": {
        "colab": {
          "base_uri": "https://localhost:8080/"
        },
        "id": "CBh7R1W4P1MU",
        "outputId": "0fb021d9-61d5-4925-c0a9-5da2868e9c28"
      },
      "outputs": [
        {
          "output_type": "stream",
          "name": "stdout",
          "text": [
            "Welcome to Hangman!\n",
            "You have 6 attempts to guess the word.\n",
            "\n",
            "Word: ______\n",
            "Guess a letter: A\n",
            "Incorrect guess. You have 5 attempts left.\n",
            "\n",
            "Word: ______\n",
            "Guess a letter: E\n",
            "Good guess!\n",
            "\n",
            "Word: __e___\n",
            "Guess a letter: H\n",
            "Good guess!\n",
            "\n",
            "Word: _he___\n",
            "Guess a letter: T\n",
            "Incorrect guess. You have 4 attempts left.\n",
            "\n",
            "Word: _he___\n",
            "Guess a letter: S\n",
            "Incorrect guess. You have 3 attempts left.\n",
            "\n",
            "Word: _he___\n",
            "Guess a letter: I\n",
            "Incorrect guess. You have 2 attempts left.\n",
            "\n",
            "Word: _he___\n",
            "Guess a letter: Op\n",
            "Please enter a single letter.\n",
            "\n",
            "Word: _he___\n",
            "Guess a letter: P\n",
            "Incorrect guess. You have 1 attempts left.\n",
            "\n",
            "Word: _he___\n",
            "Guess a letter: O\n",
            "Incorrect guess. You have 0 attempts left.\n",
            "\n",
            "Sorry, you're out of attempts. The word was: cherry\n"
          ]
        }
      ],
      "source": [
        "import random\n",
        "\n",
        "# List of words for the game\n",
        "word_list = [\"apple\", \"banana\", \"cherry\", \"dog\", \"elephant\", \"flamingo\", \"grape\", \"hamburger\", \"igloo\", \"jazz\"]\n",
        "\n",
        "# Select a random word from the list\n",
        "word_to_guess = random.choice(word_list)\n",
        "\n",
        "# Number of attempts allowed\n",
        "max_attempts = 6\n",
        "\n",
        "# Initialize variables\n",
        "guessed_letters = []\n",
        "attempts = 0\n",
        "\n",
        "# Create a function to display the current state of the word\n",
        "def display_word(word, letters_guessed):\n",
        "    display = \"\"\n",
        "    for letter in word:\n",
        "        if letter in letters_guessed:\n",
        "            display += letter\n",
        "        else:\n",
        "            display += \"_\"\n",
        "    return display\n",
        "\n",
        "# Welcome message\n",
        "print(\"Welcome to Hangman!\")\n",
        "print(\"You have\", max_attempts, \"attempts to guess the word.\")\n",
        "\n",
        "# Main game loop\n",
        "while attempts < max_attempts:\n",
        "    print(\"\\nWord:\", display_word(word_to_guess, guessed_letters))\n",
        "    guess = input(\"Guess a letter: \").lower()\n",
        "\n",
        "    if len(guess) != 1 or not guess.isalpha():\n",
        "        print(\"Please enter a single letter.\")\n",
        "        continue\n",
        "\n",
        "    if guess in guessed_letters:\n",
        "        print(\"You've already guessed that letter.\")\n",
        "        continue\n",
        "\n",
        "    guessed_letters.append(guess)\n",
        "\n",
        "    if guess in word_to_guess:\n",
        "        print(\"Good guess!\")\n",
        "        if display_word(word_to_guess, guessed_letters) == word_to_guess:\n",
        "            print(\"Congratulations! You guessed the word:\", word_to_guess)\n",
        "            break\n",
        "    else:\n",
        "        attempts += 1\n",
        "        remaining_attempts = max_attempts - attempts\n",
        "        print(\"Incorrect guess. You have\", remaining_attempts, \"attempts left.\")\n",
        "else:\n",
        "    print(\"\\nSorry, you're out of attempts. The word was:\", word_to_guess)''"
      ]
    }
  ]
}
