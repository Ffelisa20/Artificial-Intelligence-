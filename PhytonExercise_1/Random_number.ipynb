{
  "nbformat": 4,
  "nbformat_minor": 0,
  "metadata": {
    "colab": {
      "provenance": [],
      "authorship_tag": "ABX9TyO+HWGeR+zSSOU9v7FH0JFa",
      "include_colab_link": true
    },
    "kernelspec": {
      "name": "python3",
      "display_name": "Python 3"
    },
    "language_info": {
      "name": "python"
    }
  },
  "cells": [
    {
      "cell_type": "markdown",
      "metadata": {
        "id": "view-in-github",
        "colab_type": "text"
      },
      "source": [
        "<a href=\"https://colab.research.google.com/github/Ffelisa20/Artificial-Intelligence-/blob/main/Random_number.ipynb\" target=\"_parent\"><img src=\"https://colab.research.google.com/assets/colab-badge.svg\" alt=\"Open In Colab\"/></a>"
      ]
    },
    {
      "cell_type": "code",
      "execution_count": 1,
      "metadata": {
        "id": "UAzFe3U8RIBJ",
        "colab": {
          "base_uri": "https://localhost:8080/"
        },
        "outputId": "cddbccc2-28a9-4fbb-be8f-1e0d2db6e3cf"
      },
      "outputs": [
        {
          "output_type": "stream",
          "name": "stdout",
          "text": [
            "Welcome to the Number Guessing Game!\n",
            "I've selected a random number between 1 and 100.\n",
            "Try to guess the number.\n",
            "Enter your guess: 10\n",
            "The target number is greater than your guess. Try again.\n",
            "Enter your guess: 47\n",
            "The target number is greater than your guess. Try again.\n",
            "Enter your guess: 60\n",
            "The target number is greater than your guess. Try again.\n",
            "Enter your guess: 70\n",
            "The target number is greater than your guess. Try again.\n",
            "Enter your guess: 80\n",
            "The target number is less than your guess. Try again.\n",
            "Enter your guess: 75\n",
            "The target number is greater than your guess. Try again.\n",
            "Enter your guess: 76\n",
            "The target number is greater than your guess. Try again.\n",
            "Enter your guess: 77\n",
            "The target number is greater than your guess. Try again.\n",
            "Enter your guess: 79\n",
            "Congratulations! You guessed the number 79 in 9 attempts.\n",
            "Thanks for playing!\n"
          ]
        }
      ],
      "source": [
        "import random\n",
        "\n",
        "# Generate a random number between 1 and 100\n",
        "target_number = random.randint(1, 100)\n",
        "\n",
        "# Initialize variables\n",
        "attempts = 0\n",
        "\n",
        "# Welcome message\n",
        "print(\"Welcome to the Number Guessing Game!\")\n",
        "print(\"I've selected a random number between 1 and 100.\")\n",
        "print(\"Try to guess the number.\")\n",
        "\n",
        "# Main game loop\n",
        "while True:\n",
        "    try:\n",
        "        # Get user's guess\n",
        "        guess = int(input(\"Enter your guess: \"))\n",
        "        attempts += 1\n",
        "\n",
        "        # Check if the guess is correct\n",
        "        if guess == target_number:\n",
        "            print(f\"Congratulations! You guessed the number {target_number} in {attempts} attempts.\")\n",
        "            break\n",
        "        elif guess < target_number:\n",
        "            print(\"The target number is greater than your guess. Try again.\")\n",
        "        else:\n",
        "            print(\"The target number is less than your guess. Try again.\")\n",
        "    except ValueError:\n",
        "        print(\"Please enter a valid number.\")\n",
        "\n",
        "# End of the game\n",
        "print(\"Thanks for playing!\")"
      ]
    }
  ]
}
