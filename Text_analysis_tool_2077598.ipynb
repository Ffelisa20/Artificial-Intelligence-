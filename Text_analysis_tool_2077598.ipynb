{
  "nbformat": 4,
  "nbformat_minor": 0,
  "metadata": {
    "colab": {
      "provenance": [],
      "toc_visible": true,
      "authorship_tag": "ABX9TyMQozXQE1eoCfBKBbQ9U/ak",
      "include_colab_link": true
    },
    "kernelspec": {
      "name": "python3",
      "display_name": "Python 3"
    },
    "language_info": {
      "name": "python"
    }
  },
  "cells": [
    {
      "cell_type": "markdown",
      "metadata": {
        "id": "view-in-github",
        "colab_type": "text"
      },
      "source": [
        "<a href=\"https://colab.research.google.com/github/Ffelisa20/Artificial-Intelligence-/blob/main/Text_analysis_tool_2077598.ipynb\" target=\"_parent\"><img src=\"https://colab.research.google.com/assets/colab-badge.svg\" alt=\"Open In Colab\"/></a>"
      ]
    },
    {
      "cell_type": "code",
      "source": [
        "def count_words(text):\n",
        "    words = text.split()\n",
        "    return len(words)\n",
        "\n",
        "def count_sentences(text):\n",
        "    sentences = text.split('.')\n",
        "    return len(sentences)\n",
        "\n",
        "def count_paragraphs(text):\n",
        "    paragraphs = text.split('\\n\\n')\n",
        "    return len(paragraphs)\n",
        "\n",
        "def calculate_average_word_length(text):\n",
        "    words = text.split()\n",
        "    total_length = sum(len(word) for word in words)\n",
        "    num_words = len(words)\n",
        "    if num_words == 0:\n",
        "        return 0\n",
        "    return total_length / num_words\n",
        "\n",
        "def find_most_common_words(text, n=10):\n",
        "    words = text.split()\n",
        "    word_count = {}\n",
        "\n",
        "    for word in words:\n",
        "        word = word.strip('.,?!')\n",
        "        word = word.lower()\n",
        "        if word:\n",
        "            if word in word_count:\n",
        "                word_count[word] += 1\n",
        "            else:\n",
        "                word_count[word] = 1\n",
        "\n",
        "    sorted_word_count = sorted(word_count.items(), key=lambda x: x[1], reverse=True)\n",
        "\n",
        "    return sorted_word_count[:n]\n",
        "\n",
        "# Upload your text file directly to Colab using the file upload feature.\n",
        "\n",
        "# Read the uploaded file\n",
        "file_path = \"/content/Prueba.txt\"  # Replace with the path to your uploaded file\n",
        "with open(file_path, 'r') as file:\n",
        "    text = file.read()\n",
        "\n",
        "# Perform analyses\n",
        "word_count = count_words(text)\n",
        "sentence_count = count_sentences(text)\n",
        "paragraph_count = count_paragraphs(text)\n",
        "average_word_length = calculate_average_word_length(text)\n",
        "common_words = find_most_common_words(text)\n",
        "\n",
        "# Print the results\n",
        "print(f\"Number of words: {word_count}\")\n",
        "print(f\"Number of sentences: {sentence_count}\")\n",
        "print(f\"Number of paragraphs: {paragraph_count}\")\n",
        "print(f\"Average word length: {average_word_length:.2f}\")\n",
        "print(\"Most common words:\")\n",
        "for word, frequency in common_words:\n",
        "    print(f\"{word}: {frequency}\")\n"
      ],
      "metadata": {
        "colab": {
          "base_uri": "https://localhost:8080/"
        },
        "id": "9Cx10IhwO8ED",
        "outputId": "87c265b2-42e5-495c-d348-21d80510047a"
      },
      "execution_count": null,
      "outputs": [
        {
          "output_type": "stream",
          "name": "stdout",
          "text": [
            "Number of words: 28\n",
            "Number of sentences: 2\n",
            "Number of paragraphs: 2\n",
            "Average word length: 4.89\n",
            "Most common words:\n",
            "tigre: 6\n",
            "león: 4\n",
            "vaca: 3\n",
            "de: 2\n",
            "mapache: 2\n",
            "hola: 1\n",
            "esta: 1\n",
            "es: 1\n",
            "una: 1\n",
            "tarea: 1\n"
          ]
        }
      ]
    }
  ]
}